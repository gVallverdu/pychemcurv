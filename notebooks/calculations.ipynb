{
 "cells": [
  {
   "cell_type": "markdown",
   "source": [
    "# Calculations and tests"
   ],
   "metadata": {
    "collapsed": false,
    "pycharm": {
     "name": "#%% md\n"
    }
   }
  },
  {
   "cell_type": "code",
   "execution_count": 3,
   "metadata": {
    "collapsed": true,
    "pycharm": {
     "is_executing": false
    }
   },
   "outputs": [],
   "source": [
    "import numpy as np"
   ]
  },
  {
   "cell_type": "markdown",
   "source": [
    "First, define an ideal molecule."
   ],
   "metadata": {
    "collapsed": false,
    "pycharm": {
     "name": "#%% md\n"
    }
   }
  },
  {
   "cell_type": "code",
   "execution_count": 16,
   "outputs": [],
   "source": [
    "def get_ideal_pyr(l, pyrA, radian=False):\n",
    "    \"\"\" Set up an ideal pyramidal geometry \"\"\"\n",
    "    if radian:\n",
    "        r_pyrA = pyrA\n",
    "    else:\n",
    "        r_pyrA = np.radians(pyrA)\n",
    "\n",
    "    IB = l * np.sin(r_pyrA)\n",
    "    coords = np.array([[0, 0, l * np.cos(np.pi - r_pyrA)],\n",
    "                       [IB, 0, 0],\n",
    "                       [IB * np.cos(2 * np.pi / 3), IB * np.cos(np.pi / 6), 0.],\n",
    "                       [IB * np.cos(2 * np.pi / 3), -IB * np.cos(np.pi / 6), 0.]])\n",
    "    return coords"
   ],
   "metadata": {
    "collapsed": false,
    "pycharm": {
     "name": "#%%\n",
     "is_executing": false
    }
   }
  },
  {
   "cell_type": "code",
   "execution_count": 28,
   "outputs": [],
   "source": [
    "def write_xyz(coords, el=[\"C\"], filename=\"mol.xyz\"):\n",
    "    \"\"\" write an xyz file \"\"\"\n",
    "    natoms = coords.shape[0]\n",
    "    if len(el) == 1:\n",
    "        elements = natoms * el\n",
    "    elif len(el) == natoms:\n",
    "        elements = el\n",
    "    else:\n",
    "        raise ValueError(\"Wrong number of elements\")\n",
    "    \n",
    "    xyz = f\"{len(elements)}\\nxyz coords\\n\"\n",
    "    for element, coord in zip(elements, coords):\n",
    "        xyz += f\"{element}\"\n",
    "        xyz += \"\".join([f\"{x:12.6f}\" for x in coord])\n",
    "        xyz += \"\\n\"\n",
    "        \n",
    "    if filename:\n",
    "        with open(filename, \"w\") as f:\n",
    "            f.write(xyz)\n",
    "    else:\n",
    "        return xyz"
   ],
   "metadata": {
    "collapsed": false,
    "pycharm": {
     "name": "#%%\n",
     "is_executing": false
    }
   }
  },
  {
   "cell_type": "code",
   "execution_count": 27,
   "outputs": [],
   "source": [
    "l = 1.2\n",
    "theta = 110\n",
    "coords = get_ideal_pyr(l, theta)\n",
    "write_xyz(coords, filename=\"mol.xyz\")"
   ],
   "metadata": {
    "collapsed": false,
    "pycharm": {
     "name": "#%% \n",
     "is_executing": false
    }
   }
  },
  {
   "cell_type": "code",
   "execution_count": 30,
   "outputs": [],
   "source": [
    "l = 1.4\n",
    "xyz = \"\"\n",
    "for theta in range(90, 171, 1):\n",
    "    coords = get_ideal_pyr(l, theta)\n",
    "    xyz += write_xyz(coords, filename=None)\n",
    "\n",
    "with open(\"traj.xyz\", \"w\") as f:\n",
    "    f.write(xyz)"
   ],
   "metadata": {
    "collapsed": false,
    "pycharm": {
     "name": "#%%\n",
     "is_executing": false
    }
   }
  },
  {
   "cell_type": "markdown",
   "source": [],
   "metadata": {
    "collapsed": false
   }
  }
 ],
 "metadata": {
  "kernelspec": {
   "display_name": "Python 3",
   "language": "python",
   "name": "python3"
  },
  "language_info": {
   "codemirror_mode": {
    "name": "ipython",
    "version": 2
   },
   "file_extension": ".py",
   "mimetype": "text/x-python",
   "name": "python",
   "nbconvert_exporter": "python",
   "pygments_lexer": "ipython2",
   "version": "2.7.6"
  },
  "pycharm": {
   "stem_cell": {
    "cell_type": "raw",
    "source": [],
    "metadata": {
     "collapsed": false
    }
   }
  }
 },
 "nbformat": 4,
 "nbformat_minor": 0
}