{
 "cells": [
  {
   "cell_type": "markdown",
   "metadata": {
    "pycharm": {
     "name": "#%% md\n"
    }
   },
   "source": [
    "# Using core classes\n",
    "\n",
    "This notebook is just used to illustrate the `VertexAtom` and `Hybridization` classes and the computed values."
   ]
  },
  {
   "cell_type": "code",
   "execution_count": 1,
   "metadata": {},
   "outputs": [],
   "source": [
    "%load_ext autoreload\n",
    "%autoreload 2"
   ]
  },
  {
   "cell_type": "code",
   "execution_count": 2,
   "metadata": {},
   "outputs": [],
   "source": [
    "import sys\n",
    "sys.path.append(\"../\")"
   ]
  },
  {
   "cell_type": "code",
   "execution_count": 7,
   "metadata": {},
   "outputs": [],
   "source": [
    "import numpy as np\n",
    "import pandas as pd\n",
    "import pychemcurv\n",
    "import matplotlib.pyplot as plt\n",
    "%matplotlib inline"
   ]
  },
  {
   "cell_type": "markdown",
   "metadata": {
    "pycharm": {
     "name": "#%% md\n"
    }
   },
   "source": [
    "## Utility functions"
   ]
  },
  {
   "cell_type": "code",
   "execution_count": 9,
   "metadata": {},
   "outputs": [],
   "source": [
    "def build_pyramid(l, theta, n_star_A=3, radians=False, perturb=None):\n",
    "    \"\"\"Build a pyramidal geometry given an angle theta and randomize\n",
    "    the positions by adding a noise of a given magnitude. The vertex of the \n",
    "    pyramid is the point A, and *(A) are the points linked to the vertex. The\n",
    "    size of *(A) is at least 3.\n",
    "\n",
    "    theta is the angle between the normal vector of the plane define from *(A)\n",
    "    and one bond between A and *(A). \n",
    "\n",
    "       theta = pyrA + 90\n",
    "     \n",
    "    Args:\n",
    "        l (float): the bond lenght\n",
    "        theta (float): Angle to define the pyramid\n",
    "        n_star_A (int): number of point bonded to A the vertex of the pyramid.\n",
    "        radian (bool): True if pyrA in radian (default False)\n",
    "        perturb (float): Give the width of a normal distribution from which a \n",
    "            random number is choosen and added to the cartesian coordinates.\n",
    "            \n",
    "    Returns:\n",
    "        A (4, 3) matrix each row being the coordinates.\n",
    "    \"\"\"\n",
    "    r_theta = theta if radians else np.radians(theta)\n",
    "    if n_star_A < 3:\n",
    "        raise ValueError(f\"n_star_A = {n_star_A} and must be greater than 3.\")\n",
    "    \n",
    "    # build an ideal pyramid\n",
    "    IB = l * np.sin(r_theta)\n",
    "    step_angle = 2 * np.pi / n_star_A\n",
    "    coords = [[0, 0, -l * np.cos(r_theta)]]\n",
    "    coords += [[IB * np.cos(iat * step_angle), IB * np.sin(iat * step_angle), 0] \n",
    "               for iat in range(n_star_A)]       \n",
    "    coords = np.array(coords, dtype=np.float)\n",
    "    \n",
    "    # randomize positions\n",
    "    if perturb:\n",
    "        coords[1:, :] += np.random.normal(0, perturb, size=(n_star_A, 3))\n",
    "    \n",
    "    return coords"
   ]
  },
  {
   "cell_type": "code",
   "execution_count": 10,
   "metadata": {},
   "outputs": [],
   "source": [
    "def write_xyz(coords, el=[\"C\"], filename=\"mol.xyz\"):\n",
    "    \"\"\" write an xyz file \"\"\"\n",
    "    natoms = coords.shape[0]\n",
    "    if len(el) == 1:\n",
    "        elements = natoms * el\n",
    "    elif len(el) == natoms:\n",
    "        elements = el\n",
    "    else:\n",
    "        raise ValueError(\"Wrong number of elements\")\n",
    "    \n",
    "    xyz = f\"{len(elements)}\\nxyz coords\\n\"\n",
    "    for element, coord in zip(elements, coords):\n",
    "        xyz += f\"{element}\"\n",
    "        xyz += \"\".join([f\"{x:12.6f}\" for x in coord])\n",
    "        xyz += \"\\n\"\n",
    "        \n",
    "    if filename:\n",
    "        with open(filename, \"w\") as f:\n",
    "            f.write(xyz)\n",
    "    else:\n",
    "        return xyz"
   ]
  },
  {
   "cell_type": "markdown",
   "metadata": {
    "pycharm": {
     "is_executing": false,
     "name": "#%% md\n"
    }
   },
   "source": [
    "## Compute data for a range of pyrA values\n",
    "\n",
    "Compute the pyramidalization angle for a series of perfect pyramid of known pyramidalization angle."
   ]
  },
  {
   "cell_type": "code",
   "execution_count": 11,
   "metadata": {},
   "outputs": [],
   "source": [
    "l = 1.4\n",
    "xyz = \"\"\n",
    "data = list()\n",
    "for iline, theta in enumerate(range(90, 90 + 31, 1), 1):\n",
    "    \n",
    "    coords = build_pyramid(l, theta, perturb=None)\n",
    "    \n",
    "    va = pychemcurv.VertexAtom(coords[0], coords[1:])\n",
    "    hyb = pychemcurv.Hybridization(va.pyrA)\n",
    "    \n",
    "    aline = dict(theta=theta)\n",
    "    aline.update(va.as_dict())\n",
    "    aline.update(hyb.as_dict())\n",
    "    data.append(aline)\n",
    "\n",
    "    xyz += write_xyz(coords, filename=None)\n",
    "\n",
    "with open(\"traj.xyz\", \"w\") as f:\n",
    "    f.write(xyz)"
   ]
  },
  {
   "cell_type": "code",
   "execution_count": 12,
   "metadata": {},
   "outputs": [
    {
     "data": {
      "text/html": [
       "<div>\n",
       "<style scoped>\n",
       "    .dataframe tbody tr th:only-of-type {\n",
       "        vertical-align: middle;\n",
       "    }\n",
       "\n",
       "    .dataframe tbody tr th {\n",
       "        vertical-align: top;\n",
       "    }\n",
       "\n",
       "    .dataframe thead th {\n",
       "        text-align: right;\n",
       "    }\n",
       "</style>\n",
       "<table border=\"1\" class=\"dataframe\">\n",
       "  <thead>\n",
       "    <tr style=\"text-align: right;\">\n",
       "      <th></th>\n",
       "      <th>theta</th>\n",
       "      <th>pyrA</th>\n",
       "      <th>spherical_curvature</th>\n",
       "      <th>angular_defect</th>\n",
       "      <th>improper</th>\n",
       "      <th>pyr_distance</th>\n",
       "      <th>hybridization</th>\n",
       "      <th>n</th>\n",
       "      <th>m</th>\n",
       "      <th>c_pi^2</th>\n",
       "      <th>lambda_pi^2</th>\n",
       "    </tr>\n",
       "  </thead>\n",
       "  <tbody>\n",
       "    <tr>\n",
       "      <td>0</td>\n",
       "      <td>90</td>\n",
       "      <td>0.000000</td>\n",
       "      <td>8.747477e-17</td>\n",
       "      <td>-8.881784e-16</td>\n",
       "      <td>1.224647e-16</td>\n",
       "      <td>8.572528e-17</td>\n",
       "      <td>2.000000</td>\n",
       "      <td>2.000000</td>\n",
       "      <td>0.000000</td>\n",
       "      <td>0.000000</td>\n",
       "      <td>1.000000</td>\n",
       "    </tr>\n",
       "    <tr>\n",
       "      <td>1</td>\n",
       "      <td>91</td>\n",
       "      <td>0.017453</td>\n",
       "      <td>2.493201e-02</td>\n",
       "      <td>1.582437e-03</td>\n",
       "      <td>-3.489596e-02</td>\n",
       "      <td>2.443337e-02</td>\n",
       "      <td>2.001829</td>\n",
       "      <td>2.001829</td>\n",
       "      <td>0.000610</td>\n",
       "      <td>0.000609</td>\n",
       "      <td>0.999391</td>\n",
       "    </tr>\n",
       "    <tr>\n",
       "      <td>2</td>\n",
       "      <td>92</td>\n",
       "      <td>0.034907</td>\n",
       "      <td>4.985642e-02</td>\n",
       "      <td>6.324938e-03</td>\n",
       "      <td>-6.972831e-02</td>\n",
       "      <td>4.885930e-02</td>\n",
       "      <td>2.007335</td>\n",
       "      <td>2.007335</td>\n",
       "      <td>0.002445</td>\n",
       "      <td>0.002439</td>\n",
       "      <td>0.997561</td>\n",
       "    </tr>\n",
       "    <tr>\n",
       "      <td>3</td>\n",
       "      <td>93</td>\n",
       "      <td>0.052360</td>\n",
       "      <td>7.476565e-02</td>\n",
       "      <td>1.421315e-02</td>\n",
       "      <td>-1.044342e-01</td>\n",
       "      <td>7.327034e-02</td>\n",
       "      <td>2.016570</td>\n",
       "      <td>2.016570</td>\n",
       "      <td>0.005523</td>\n",
       "      <td>0.005493</td>\n",
       "      <td>0.994507</td>\n",
       "    </tr>\n",
       "    <tr>\n",
       "      <td>4</td>\n",
       "      <td>94</td>\n",
       "      <td>0.069813</td>\n",
       "      <td>9.965211e-02</td>\n",
       "      <td>2.522338e-02</td>\n",
       "      <td>-1.389524e-01</td>\n",
       "      <td>9.765906e-02</td>\n",
       "      <td>2.029628</td>\n",
       "      <td>2.029628</td>\n",
       "      <td>0.009876</td>\n",
       "      <td>0.009780</td>\n",
       "      <td>0.990220</td>\n",
       "    </tr>\n",
       "    <tr>\n",
       "      <td>5</td>\n",
       "      <td>95</td>\n",
       "      <td>0.087266</td>\n",
       "      <td>1.245082e-01</td>\n",
       "      <td>3.932295e-02</td>\n",
       "      <td>-1.732237e-01</td>\n",
       "      <td>1.220180e-01</td>\n",
       "      <td>2.046640</td>\n",
       "      <td>2.046640</td>\n",
       "      <td>0.015547</td>\n",
       "      <td>0.015309</td>\n",
       "      <td>0.984691</td>\n",
       "    </tr>\n",
       "    <tr>\n",
       "      <td>6</td>\n",
       "      <td>96</td>\n",
       "      <td>0.104720</td>\n",
       "      <td>1.493264e-01</td>\n",
       "      <td>5.647069e-02</td>\n",
       "      <td>-2.071919e-01</td>\n",
       "      <td>1.463398e-01</td>\n",
       "      <td>2.067779</td>\n",
       "      <td>2.067779</td>\n",
       "      <td>0.022593</td>\n",
       "      <td>0.022094</td>\n",
       "      <td>0.977906</td>\n",
       "    </tr>\n",
       "    <tr>\n",
       "      <td>7</td>\n",
       "      <td>97</td>\n",
       "      <td>0.122173</td>\n",
       "      <td>1.740991e-01</td>\n",
       "      <td>7.661746e-02</td>\n",
       "      <td>-2.408041e-01</td>\n",
       "      <td>1.706171e-01</td>\n",
       "      <td>2.093269</td>\n",
       "      <td>2.093269</td>\n",
       "      <td>0.031090</td>\n",
       "      <td>0.030152</td>\n",
       "      <td>0.969848</td>\n",
       "    </tr>\n",
       "    <tr>\n",
       "      <td>8</td>\n",
       "      <td>98</td>\n",
       "      <td>0.139626</td>\n",
       "      <td>1.988187e-01</td>\n",
       "      <td>9.970689e-02</td>\n",
       "      <td>-2.740115e-01</td>\n",
       "      <td>1.948423e-01</td>\n",
       "      <td>2.123384</td>\n",
       "      <td>2.123384</td>\n",
       "      <td>0.041128</td>\n",
       "      <td>0.039503</td>\n",
       "      <td>0.960497</td>\n",
       "    </tr>\n",
       "    <tr>\n",
       "      <td>9</td>\n",
       "      <td>99</td>\n",
       "      <td>0.157080</td>\n",
       "      <td>2.234778e-01</td>\n",
       "      <td>1.256761e-01</td>\n",
       "      <td>-3.067692e-01</td>\n",
       "      <td>2.190083e-01</td>\n",
       "      <td>2.158464</td>\n",
       "      <td>2.158464</td>\n",
       "      <td>0.052821</td>\n",
       "      <td>0.050171</td>\n",
       "      <td>0.949829</td>\n",
       "    </tr>\n",
       "  </tbody>\n",
       "</table>\n",
       "</div>"
      ],
      "text/plain": [
       "   theta      pyrA  spherical_curvature  angular_defect      improper  \\\n",
       "0     90  0.000000         8.747477e-17   -8.881784e-16  1.224647e-16   \n",
       "1     91  0.017453         2.493201e-02    1.582437e-03 -3.489596e-02   \n",
       "2     92  0.034907         4.985642e-02    6.324938e-03 -6.972831e-02   \n",
       "3     93  0.052360         7.476565e-02    1.421315e-02 -1.044342e-01   \n",
       "4     94  0.069813         9.965211e-02    2.522338e-02 -1.389524e-01   \n",
       "5     95  0.087266         1.245082e-01    3.932295e-02 -1.732237e-01   \n",
       "6     96  0.104720         1.493264e-01    5.647069e-02 -2.071919e-01   \n",
       "7     97  0.122173         1.740991e-01    7.661746e-02 -2.408041e-01   \n",
       "8     98  0.139626         1.988187e-01    9.970689e-02 -2.740115e-01   \n",
       "9     99  0.157080         2.234778e-01    1.256761e-01 -3.067692e-01   \n",
       "\n",
       "   pyr_distance  hybridization         n         m    c_pi^2  lambda_pi^2  \n",
       "0  8.572528e-17       2.000000  2.000000  0.000000  0.000000     1.000000  \n",
       "1  2.443337e-02       2.001829  2.001829  0.000610  0.000609     0.999391  \n",
       "2  4.885930e-02       2.007335  2.007335  0.002445  0.002439     0.997561  \n",
       "3  7.327034e-02       2.016570  2.016570  0.005523  0.005493     0.994507  \n",
       "4  9.765906e-02       2.029628  2.029628  0.009876  0.009780     0.990220  \n",
       "5  1.220180e-01       2.046640  2.046640  0.015547  0.015309     0.984691  \n",
       "6  1.463398e-01       2.067779  2.067779  0.022593  0.022094     0.977906  \n",
       "7  1.706171e-01       2.093269  2.093269  0.031090  0.030152     0.969848  \n",
       "8  1.948423e-01       2.123384  2.123384  0.041128  0.039503     0.960497  \n",
       "9  2.190083e-01       2.158464  2.158464  0.052821  0.050171     0.949829  "
      ]
     },
     "execution_count": 12,
     "metadata": {},
     "output_type": "execute_result"
    }
   ],
   "source": [
    "df = pd.DataFrame(data)\n",
    "df.head(10)"
   ]
  },
  {
   "cell_type": "code",
   "execution_count": 13,
   "metadata": {},
   "outputs": [
    {
     "name": "stdout",
     "output_type": "stream",
     "text": [
      "\\begin{tabular}{rrrrrrr}\n",
      "\\toprule\n",
      " theta &      pyrA &   c_pi^2 & lambda_pi^2 &        m &        n & hybridization \\\\\n",
      "\\midrule\n",
      "    90 &  0.000000 &    0.000 &       1.000 &    0.000 &    2.000 &         2.000 \\\\\n",
      "    91 &  0.017453 &    0.001 &       0.999 &    0.001 &    2.002 &         2.002 \\\\\n",
      "    92 &  0.034907 &    0.002 &       0.998 &    0.002 &    2.007 &         2.007 \\\\\n",
      "    93 &  0.052360 &    0.005 &       0.995 &    0.006 &    2.017 &         2.017 \\\\\n",
      "    94 &  0.069813 &    0.010 &       0.990 &    0.010 &    2.030 &         2.030 \\\\\n",
      "    95 &  0.087266 &    0.015 &       0.985 &    0.016 &    2.047 &         2.047 \\\\\n",
      "    96 &  0.104720 &    0.022 &       0.978 &    0.023 &    2.068 &         2.068 \\\\\n",
      "    97 &  0.122173 &    0.030 &       0.970 &    0.031 &    2.093 &         2.093 \\\\\n",
      "    98 &  0.139626 &    0.040 &       0.960 &    0.041 &    2.123 &         2.123 \\\\\n",
      "    99 &  0.157080 &    0.050 &       0.950 &    0.053 &    2.158 &         2.158 \\\\\n",
      "   100 &  0.174533 &    0.062 &       0.938 &    0.066 &    2.199 &         2.199 \\\\\n",
      "   101 &  0.191986 &    0.076 &       0.924 &    0.082 &    2.245 &         2.245 \\\\\n",
      "   102 &  0.209440 &    0.090 &       0.910 &    0.099 &    2.298 &         2.298 \\\\\n",
      "   103 &  0.226893 &    0.107 &       0.893 &    0.119 &    2.358 &         2.358 \\\\\n",
      "   104 &  0.244346 &    0.124 &       0.876 &    0.142 &    2.426 &         2.426 \\\\\n",
      "   105 &  0.261799 &    0.144 &       0.856 &    0.168 &    2.503 &         2.503 \\\\\n",
      "   106 &  0.279253 &    0.164 &       0.836 &    0.197 &    2.590 &         2.590 \\\\\n",
      "   107 &  0.296706 &    0.187 &       0.813 &    0.230 &    2.690 &         2.690 \\\\\n",
      "   108 &  0.314159 &    0.211 &       0.789 &    0.268 &    2.803 &         2.803 \\\\\n",
      "   109 &  0.331613 &    0.237 &       0.763 &    0.311 &    2.932 &         2.932 \\\\\n",
      "   110 &  0.349066 &    0.265 &       0.735 &    0.360 &    3.081 &         3.081 \\\\\n",
      "   111 &  0.366519 &    0.295 &       0.705 &    0.418 &    3.254 &         3.254 \\\\\n",
      "   112 &  0.383972 &    0.326 &       0.674 &    0.485 &    3.454 &         3.454 \\\\\n",
      "   113 &  0.401426 &    0.360 &       0.640 &    0.563 &    3.690 &         3.690 \\\\\n",
      "   114 &  0.418879 &    0.396 &       0.604 &    0.657 &    3.971 &         3.971 \\\\\n",
      "   115 &  0.436332 &    0.435 &       0.565 &    0.770 &    4.309 &         4.309 \\\\\n",
      "   116 &  0.453786 &    0.476 &       0.524 &    0.908 &    4.723 &         4.723 \\\\\n",
      "   117 &  0.471239 &    0.519 &       0.481 &    1.080 &    5.240 &         5.240 \\\\\n",
      "   118 &  0.488692 &    0.565 &       0.435 &    1.301 &    5.903 &         5.903 \\\\\n",
      "   119 &  0.506145 &    0.615 &       0.385 &    1.594 &    6.782 &         6.782 \\\\\n",
      "   120 &  0.523599 &    0.667 &       0.333 &    2.000 &    8.000 &         8.000 \\\\\n",
      "\\bottomrule\n",
      "\\end{tabular}\n",
      "\n"
     ]
    }
   ],
   "source": [
    "latex = df.to_latex(\n",
    "    index=False,\n",
    "    escape=False,\n",
    "    columns=[\"theta\", \"pyrA\", \"c_pi^2\", \"lambda_pi^2\", \"m\", \"n\", \"hybridization\"],\n",
    "    formatters={\"lambda_pi^2\": lambda x: \"%8.3f\" % x,\n",
    "                \"c_pi^2\": lambda x: \"%8.3f\" % x,\n",
    "                \"m\": lambda x: \"%8.3f\" % x,\n",
    "                \"hybridization\": lambda x: \"%8.3f\" % x,\n",
    "                \"n\": lambda x: \"%8.3f\" % x})\n",
    "print(latex)"
   ]
  },
  {
   "cell_type": "markdown",
   "metadata": {},
   "source": [
    "## Compute data for defined pyramid\n",
    "\n",
    "### A perfect sp3 pyramid"
   ]
  },
  {
   "cell_type": "code",
   "execution_count": 14,
   "metadata": {},
   "outputs": [
    {
     "name": "stdout",
     "output_type": "stream",
     "text": [
      "coords = \n",
      " [[ 0.          0.          0.43333333]\n",
      " [ 1.22565175  0.          0.        ]\n",
      " [-0.61282588  1.06144556  0.        ]\n",
      " [-0.61282588 -1.06144556  0.        ]]\n",
      "pyr angle:    19.4712\n",
      "pyr distance:     0.4333\n",
      "angular defect:     0.5513\n",
      "spherical curvature : 0.5128205128205127\n",
      "improper angle: -0.6154797086703873\n"
     ]
    }
   ],
   "source": [
    "coords = build_pyramid(1.3, np.degrees(np.arccos(-1/3)), perturb=0)\n",
    "print(\"coords = \\n\", coords)\n",
    "write_xyz(coords, filename=\"mol.xyz\")\n",
    "va = pychemcurv.VertexAtom(coords[0], coords[1:])\n",
    "print(f\"pyr angle: {va.pyrA:10.4f}\")\n",
    "print(f\"pyr distance: {va.pyr_distance:10.4f}\")\n",
    "print(f\"angular defect: {va.angular_defect:10.4f}\")\n",
    "print(f\"spherical curvature : {va.spherical_curvature}\")\n",
    "print(f\"improper angle: {va.improper}\")"
   ]
  },
  {
   "cell_type": "markdown",
   "metadata": {},
   "source": [
    "### A perfect sp2 atom"
   ]
  },
  {
   "cell_type": "code",
   "execution_count": 15,
   "metadata": {},
   "outputs": [
    {
     "name": "stdout",
     "output_type": "stream",
     "text": [
      "coords = \n",
      " [[ 0.00000000e+00  0.00000000e+00 -7.96020419e-17]\n",
      " [ 1.30000000e+00  0.00000000e+00  0.00000000e+00]\n",
      " [-6.50000000e-01  1.12583302e+00  0.00000000e+00]\n",
      " [-6.50000000e-01 -1.12583302e+00  0.00000000e+00]]\n",
      "pyr angle:     0.0000\n",
      "pyr distance:     0.0000\n",
      "angular defect:    -0.0000\n",
      "spherical curvature : 9.420359993441179e-17\n",
      "improper angle:     0.0000\n"
     ]
    }
   ],
   "source": [
    "coords = build_pyramid(1.3, 90, perturb=0)\n",
    "print(\"coords = \\n\", coords)\n",
    "write_xyz(coords, filename=\"mol_sp2.xyz\")\n",
    "va = pychemcurv.VertexAtom(coords[0], coords[1:])\n",
    "print(f\"pyr angle: {va.pyrA:10.4f}\")\n",
    "print(f\"pyr distance: {va.pyr_distance:10.4f}\")\n",
    "print(f\"angular defect: {va.angular_defect:10.4f}\")\n",
    "print(f\"spherical curvature : {va.spherical_curvature}\")\n",
    "print(f\"improper angle: {va.improper:10.4f}\")"
   ]
  },
  {
   "cell_type": "markdown",
   "metadata": {},
   "source": [
    "### A sp3 pyramid with random noize\n",
    "\n",
    "Compute the same quantities for a sp3 pyramid but randomize the positions.\n",
    "\n",
    "#### perturb by 1%"
   ]
  },
  {
   "cell_type": "code",
   "execution_count": 16,
   "metadata": {},
   "outputs": [
    {
     "name": "stdout",
     "output_type": "stream",
     "text": [
      "coords = \n",
      " [[ 0.00000000e+00  0.00000000e+00  4.33333333e-01]\n",
      " [ 1.19623262e+00  1.48214445e-02  2.59774062e-02]\n",
      " [-6.23512929e-01  1.07039576e+00  3.33918720e-03]\n",
      " [-5.95853887e-01 -1.07012135e+00 -5.86740681e-04]]\n",
      "pyr angle:    19.1526\n",
      "pyr distance:     0.4236\n",
      "angular defect:     0.5347\n",
      "spherical curvature : 0.5080353452757975\n",
      "improper angle:    -0.6074\n"
     ]
    }
   ],
   "source": [
    "coords = build_pyramid(1.3, np.degrees(np.arccos(-1/3)), perturb=0.01 * 2)\n",
    "print(\"coords = \\n\", coords)\n",
    "write_xyz(coords, filename=\"mol_r.xyz\")\n",
    "va = pychemcurv.VertexAtom(coords[0], coords[1:])\n",
    "print(f\"pyr angle: {va.pyrA:10.4f}\")\n",
    "print(f\"pyr distance: {va.pyr_distance:10.4f}\")\n",
    "print(f\"angular defect: {va.angular_defect:10.4f}\")\n",
    "print(f\"spherical curvature : {va.spherical_curvature}\")\n",
    "print(f\"improper angle: {va.improper:10.4f}\")"
   ]
  },
  {
   "cell_type": "markdown",
   "metadata": {},
   "source": [
    "#### Perturb by 15%\n",
    "\n",
    "Compute the same quantities for a sp3 pyramid but randomize the positions by 15%."
   ]
  },
  {
   "cell_type": "code",
   "execution_count": 17,
   "metadata": {},
   "outputs": [
    {
     "name": "stdout",
     "output_type": "stream",
     "text": [
      "coords = \n",
      " [[ 0.          0.          0.46666667]\n",
      " [ 1.55257661 -0.63908829 -0.51067063]\n",
      " [-0.89539197  1.16502608  0.19347791]\n",
      " [-0.83009946 -1.56912125 -0.01756665]]\n",
      "pyr angle:    18.8158\n",
      "pyr distance:     0.5505\n",
      "angular defect:     0.5707\n",
      "spherical curvature : 0.37160453883770644\n",
      "improper angle:    -0.8836\n"
     ]
    }
   ],
   "source": [
    "coords = build_pyramid(1.4, np.degrees(np.arccos(-1/3)), perturb=0.15 * 2)\n",
    "print(\"coords = \\n\", coords)\n",
    "write_xyz(coords, filename=\"mol_r.xyz\")\n",
    "va = pychemcurv.VertexAtom(coords[0], coords[1:])\n",
    "print(f\"pyr angle: {va.pyrA:10.4f}\")\n",
    "print(f\"pyr distance: {va.pyr_distance:10.4f}\")\n",
    "print(f\"angular defect: {va.angular_defect:10.4f}\")\n",
    "print(f\"spherical curvature : {va.spherical_curvature}\")\n",
    "print(f\"improper angle: {va.improper:10.4f}\")"
   ]
  },
  {
   "cell_type": "markdown",
   "metadata": {},
   "source": [
    "### Random rotation\n",
    "\n",
    "Apply a random rotation and translation to the molecule, and check the results do not change."
   ]
  },
  {
   "cell_type": "code",
   "execution_count": 18,
   "metadata": {},
   "outputs": [
    {
     "name": "stdout",
     "output_type": "stream",
     "text": [
      "qcoords = \n",
      " [[-1.86135692  6.7504218   2.79287681]\n",
      " [-1.77277756  5.85523808  1.07098367]\n",
      " [-2.05536292  6.18380119  4.16216399]\n",
      " [-0.09778132  7.20852017  2.53668258]]\n",
      "pyr angle:    18.8158\n",
      "pyr distance:     0.5505\n",
      "angular defect:     0.5707\n",
      "spherical curvature : 0.37160453883770683\n",
      "improper angle:    -0.8836\n"
     ]
    }
   ],
   "source": [
    "# transformation matrix from qr decomposition\n",
    "q ,r = np.linalg.qr(np.random.random((3, 3)))\n",
    "\n",
    "# translation vector\n",
    "translation = np.random.uniform(-10, 10, 3)\n",
    "\n",
    "# new coordinates\n",
    "qcoords = np.dot(coords, q) + translation\n",
    "print(\"qcoords = \\n\", qcoords)\n",
    "\n",
    "write_xyz(qcoords, filename=\"random.xyz\")\n",
    "\n",
    "va = pychemcurv.VertexAtom(qcoords[0], qcoords[1:])\n",
    "print(f\"pyr angle: {va.pyrA:10.4f}\")\n",
    "print(f\"pyr distance: {va.pyr_distance:10.4f}\")\n",
    "print(f\"angular defect: {va.angular_defect:10.4f}\")\n",
    "print(f\"spherical curvature : {va.spherical_curvature}\")\n",
    "print(f\"improper angle: {va.improper:10.4f}\")"
   ]
  },
  {
   "cell_type": "code",
   "execution_count": 19,
   "metadata": {},
   "outputs": [
    {
     "name": "stdout",
     "output_type": "stream",
     "text": [
      "[[-1.861357  6.750422  2.792877]\n",
      " [-1.772778  5.855238  1.070984]\n",
      " [-2.055363  6.183801  4.162164]\n",
      " [-0.097781  7.20852   2.536683]]\n",
      "pyr angle: 18.815844849617964\n",
      "pyr distance: 0.5505463213755868\n",
      "angular defect: 0.5707402967615947\n",
      "spherical curvature : 0.37160453883770683\n",
      "improper angle: -0.883638559660301\n"
     ]
    }
   ],
   "source": [
    "with open(\"random.xyz\", \"r\") as f:\n",
    "    nat = int(f.readline())\n",
    "    f.readline()\n",
    "    coords = list()\n",
    "    for iat in range(nat):\n",
    "        line = f.readline().split()\n",
    "        coords.append(line[1:4])\n",
    "coords = np.array(coords, dtype=np.float64)\n",
    "print(coords)\n",
    "\n",
    "va = pychemcurv.VertexAtom(qcoords[0], qcoords[1:])\n",
    "print(f\"pyr angle: {va.pyrA}\")\n",
    "print(f\"pyr distance: {va.pyr_distance}\")\n",
    "print(f\"angular defect: {va.angular_defect}\")\n",
    "print(f\"spherical curvature : {va.spherical_curvature}\")\n",
    "print(f\"improper angle: {va.improper}\")"
   ]
  },
  {
   "cell_type": "markdown",
   "metadata": {},
   "source": [
    "## Numpy\n",
    "\n",
    "The `Hybridization` class can be used with numpy."
   ]
  },
  {
   "cell_type": "code",
   "execution_count": 20,
   "metadata": {},
   "outputs": [],
   "source": [
    "pyrA = np.linspace(0, 30, 12)\n",
    "hyb = pychemcurv.Hybridization(pyrA)"
   ]
  },
  {
   "cell_type": "code",
   "execution_count": 21,
   "metadata": {},
   "outputs": [
    {
     "data": {
      "text/plain": [
       "array([0.        , 0.00453835, 0.01823608, 0.0413444 , 0.07429295,\n",
       "       0.11770697, 0.17243303, 0.23957508, 0.32054361, 0.41712183,\n",
       "       0.53155439, 0.66666667])"
      ]
     },
     "execution_count": 21,
     "metadata": {},
     "output_type": "execute_result"
    }
   ],
   "source": [
    "hyb.c_pi ** 2"
   ]
  },
  {
   "cell_type": "code",
   "execution_count": 22,
   "metadata": {},
   "outputs": [
    {
     "data": {
      "text/plain": [
       "array([1.        , 0.99546165, 0.98176392, 0.9586556 , 0.92570705,\n",
       "       0.88229303, 0.82756697, 0.76042492, 0.67945639, 0.58287817,\n",
       "       0.46844561, 0.33333333])"
      ]
     },
     "execution_count": 22,
     "metadata": {},
     "output_type": "execute_result"
    }
   ],
   "source": [
    "hyb.lambda_pi ** 2"
   ]
  },
  {
   "cell_type": "code",
   "execution_count": 27,
   "metadata": {},
   "outputs": [
    {
     "data": {
      "text/plain": [
       "{'hybridization': array([2.        , 2.01367713, 2.05572443, 2.12938243, 2.24076606,\n",
       "        2.40023088, 2.62508428, 2.94516265, 3.41529438, 4.14687311,\n",
       "        5.40415859, 8.        ]),\n",
       " 'n': array([2.        , 2.01367713, 2.05572443, 2.12938243, 2.24076606,\n",
       "        2.40023088, 2.62508428, 2.94516265, 3.41529438, 4.14687311,\n",
       "        5.40415859, 8.        ]),\n",
       " 'm': array([0.        , 0.00455904, 0.01857481, 0.04312748, 0.08025535,\n",
       "        0.13341029, 0.20836143, 0.31505422, 0.47176479, 0.71562437,\n",
       "        1.13471953, 2.        ]),\n",
       " 'c_pi^2': array([0.        , 0.00453835, 0.01823608, 0.0413444 , 0.07429295,\n",
       "        0.11770697, 0.17243303, 0.23957508, 0.32054361, 0.41712183,\n",
       "        0.53155439, 0.66666667]),\n",
       " 'lambda_pi^2': array([1.        , 0.99546165, 0.98176392, 0.9586556 , 0.92570705,\n",
       "        0.88229303, 0.82756697, 0.76042492, 0.67945639, 0.58287817,\n",
       "        0.46844561, 0.33333333])}"
      ]
     },
     "execution_count": 27,
     "metadata": {},
     "output_type": "execute_result"
    }
   ],
   "source": [
    "hyb.as_dict()"
   ]
  },
  {
   "cell_type": "markdown",
   "metadata": {},
   "source": [
    "## Hybridization\n",
    "\n",
    "Calculations of $c_\\pi^2 / 3$ and $\\lambda_\\pi^2$ as a function of $pyrA$."
   ]
  },
  {
   "cell_type": "code",
   "execution_count": 24,
   "metadata": {},
   "outputs": [
    {
     "data": {
      "image/png": "[encoded data removed]",
      "text/plain": [
       "<Figure size 840.24x595.44 with 2 Axes>"
      ]
     },
     "metadata": {},
     "output_type": "display_data"
    }
   ],
   "source": [
    "pyrA = np.linspace(0, 35, 100)\n",
    "hybridization = pychemcurv.Hybridization(pyrA)\n",
    "\n",
    "with plt.style.context(\"publi\"):\n",
    "    fig, ax1 = plt.subplots()\n",
    "    \n",
    "    ax1.plot(pyrA, hybridization.c_pi ** 2 / 3, label=\"$p_z$ weight in $\\sigma$ orbitals\")\n",
    "    ax1.set_xlabel('pyrA (degrees)')\n",
    "    ax1.set_ylabel('$c_\\pi^2 \\; / \\; 3$', color=\"C0\")\n",
    "    ax1.tick_params(axis='y', labelcolor=\"C0\")\n",
    "\n",
    "    ax2 = ax1.twinx()  # instantiate a second axes that shares the same x-axis\n",
    "\n",
    "    ax2.plot(pyrA, hybridization.lambda_pi **2, color=\"C1\", label=\"s weight in $\\pi$ orbital\")\n",
    "    \n",
    "    ax2.set_ylabel('$\\lambda_\\pi^2$', color=\"C1\")\n",
    "    ax2.tick_params(axis='y', labelcolor=\"C1\")\n",
    "    \n",
    "    ax1.axvline(0, color=\"C7\", ls=\"--\", lw=3)\n",
    "    ax1.axvline(19.4712, color=\"C7\", ls=\"--\", lw=3)\n",
    "    ax1.text(0, 0.35, \"$sp^2$\", ha=\"center\", color=\"C7\")\n",
    "    ax1.text(19.4712, 0.35, \"$sp^3$\", ha=\"center\", color=\"C7\")\n",
    "\n",
    "    plt.grid(False)\n",
    "    fig.tight_layout()\n",
    "    plt.savefig(\"hybrid.png\", dpi=300)\n",
    "    "
   ]
  }
 ],
 "metadata": {
  "kernelspec": {
   "display_name": "Python 3",
   "language": "python",
   "name": "python3"
  },
  "language_info": {
   "codemirror_mode": {
    "name": "ipython",
    "version": 3
   },
   "file_extension": ".py",
   "mimetype": "text/x-python",
   "name": "python",
   "nbconvert_exporter": "python",
   "pygments_lexer": "ipython3",
   "version": "3.7.4"
  },
  "pycharm": {
   "stem_cell": {
    "cell_type": "raw",
    "metadata": {
     "collapsed": false
    },
    "source": []
   }
  }
 },
 "nbformat": 4,
 "nbformat_minor": 4
}
