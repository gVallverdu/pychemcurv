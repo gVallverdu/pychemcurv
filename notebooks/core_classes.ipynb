{
 "cells": [
  {
   "cell_type": "markdown",
   "metadata": {
    "pycharm": {
     "name": "#%% md\n"
    }
   },
   "source": [
    "# Using core classes\n",
    "\n",
    "This notebook aims to illustrate the `VertexAtom` and `Hybridization` classes and the computed values."
   ]
  },
  {
   "cell_type": "code",
   "execution_count": 1,
   "metadata": {},
   "outputs": [],
   "source": [
    "import numpy as np\n",
    "import pandas as pd\n",
    "import matplotlib.pyplot as plt\n",
    "%matplotlib inline\n",
    "\n",
    "import pychemcurv"
   ]
  },
  {
   "cell_type": "markdown",
   "metadata": {
    "pycharm": {
     "is_executing": false,
     "name": "#%% md\n"
    }
   },
   "source": [
    "## Compute data for a range of pyrA values\n",
    "\n",
    "Compute the pyramidalization angle for a series of perfect pyramid of known pyramidalization angle."
   ]
  },
  {
   "cell_type": "code",
   "execution_count": 2,
   "metadata": {},
   "outputs": [],
   "source": [
    "l = 1.4\n",
    "xyz = \"\"\n",
    "data = list()\n",
    "for iline, theta in enumerate(range(90, 90 + 31, 1), 1):\n",
    "    \n",
    "    va = pychemcurv.VertexAtom.from_pyramid(l, theta)\n",
    "    hyb = pychemcurv.Hybridization(va.pyrA)\n",
    "    \n",
    "    aline = dict(theta=theta)\n",
    "    aline.update(va.as_dict(radians=False))\n",
    "    aline.update(hyb.as_dict())\n",
    "    data.append(aline)\n",
    "\n",
    "    xyz += va.write_file(filename=None)\n",
    "\n",
    "with open(\"traj.xyz\", \"w\") as f:\n",
    "    f.write(xyz)"
   ]
  },
  {
   "cell_type": "code",
   "execution_count": 6,
   "metadata": {},
   "outputs": [
    {
     "data": {
      "text/html": [
       "<div>\n",
       "<style scoped>\n",
       "    .dataframe tbody tr th:only-of-type {\n",
       "        vertical-align: middle;\n",
       "    }\n",
       "\n",
       "    .dataframe tbody tr th {\n",
       "        vertical-align: top;\n",
       "    }\n",
       "\n",
       "    .dataframe thead th {\n",
       "        text-align: right;\n",
       "    }\n",
       "</style>\n",
       "<table border=\"1\" class=\"dataframe\">\n",
       "  <thead>\n",
       "    <tr style=\"text-align: right;\">\n",
       "      <th></th>\n",
       "      <th>theta</th>\n",
       "      <th>pyrA</th>\n",
       "      <th>spherical_curvature</th>\n",
       "      <th>angular_defect</th>\n",
       "      <th>improper</th>\n",
       "      <th>pyr_distance</th>\n",
       "      <th>atom_A</th>\n",
       "      <th>star_A</th>\n",
       "      <th>n_star_A</th>\n",
       "      <th>hybridization</th>\n",
       "      <th>n</th>\n",
       "      <th>m</th>\n",
       "      <th>c_pi^2</th>\n",
       "      <th>lambda_pi^2</th>\n",
       "    </tr>\n",
       "  </thead>\n",
       "  <tbody>\n",
       "    <tr>\n",
       "      <th>0</th>\n",
       "      <td>90</td>\n",
       "      <td>0.0</td>\n",
       "      <td>8.747477e-17</td>\n",
       "      <td>-5.088887e-14</td>\n",
       "      <td>7.016709e-15</td>\n",
       "      <td>8.572528e-17</td>\n",
       "      <td>[0.0, 0.0, -8.572527594031472e-17]</td>\n",
       "      <td>[[1.4, 0.0, 0.0], [-0.6999999999999996, 1.2124...</td>\n",
       "      <td>3</td>\n",
       "      <td>2.000000</td>\n",
       "      <td>2.000000</td>\n",
       "      <td>0.000000</td>\n",
       "      <td>0.000000</td>\n",
       "      <td>1.000000</td>\n",
       "    </tr>\n",
       "    <tr>\n",
       "      <th>1</th>\n",
       "      <td>91</td>\n",
       "      <td>1.0</td>\n",
       "      <td>2.493201e-02</td>\n",
       "      <td>9.066696e-02</td>\n",
       "      <td>-1.999391e+00</td>\n",
       "      <td>2.443337e-02</td>\n",
       "      <td>[0.0, 0.0, 0.02443336901219686]</td>\n",
       "      <td>[[1.3997867732189477, 0.0, 0.0], [-0.699893386...</td>\n",
       "      <td>3</td>\n",
       "      <td>2.001829</td>\n",
       "      <td>2.001829</td>\n",
       "      <td>0.000610</td>\n",
       "      <td>0.000609</td>\n",
       "      <td>0.999391</td>\n",
       "    </tr>\n",
       "    <tr>\n",
       "      <th>2</th>\n",
       "      <td>92</td>\n",
       "      <td>2.0</td>\n",
       "      <td>4.985642e-02</td>\n",
       "      <td>3.623923e-01</td>\n",
       "      <td>-3.995138e+00</td>\n",
       "      <td>4.885930e-02</td>\n",
       "      <td>[0.0, 0.0, 0.04885929538350133]</td>\n",
       "      <td>[[1.399147157826734, 0.0, 0.0], [-0.6995735789...</td>\n",
       "      <td>3</td>\n",
       "      <td>2.007335</td>\n",
       "      <td>2.007335</td>\n",
       "      <td>0.002445</td>\n",
       "      <td>0.002439</td>\n",
       "      <td>0.997561</td>\n",
       "    </tr>\n",
       "    <tr>\n",
       "      <th>3</th>\n",
       "      <td>93</td>\n",
       "      <td>3.0</td>\n",
       "      <td>7.476565e-02</td>\n",
       "      <td>8.143534e-01</td>\n",
       "      <td>-5.983640e+00</td>\n",
       "      <td>7.327034e-02</td>\n",
       "      <td>[0.0, 0.0, 0.07327033874012137]</td>\n",
       "      <td>[[1.3980813486564032, 0.0, 0.0], [-0.699040674...</td>\n",
       "      <td>3</td>\n",
       "      <td>2.016570</td>\n",
       "      <td>2.016570</td>\n",
       "      <td>0.005523</td>\n",
       "      <td>0.005493</td>\n",
       "      <td>0.994507</td>\n",
       "    </tr>\n",
       "    <tr>\n",
       "      <th>4</th>\n",
       "      <td>94</td>\n",
       "      <td>4.0</td>\n",
       "      <td>9.965211e-02</td>\n",
       "      <td>1.445193e+00</td>\n",
       "      <td>-7.961385e+00</td>\n",
       "      <td>9.765906e-02</td>\n",
       "      <td>[0.0, 0.0, 0.09765906324177548]</td>\n",
       "      <td>[[1.3965896703637537, 0.0, 0.0], [-0.698294835...</td>\n",
       "      <td>3</td>\n",
       "      <td>2.029628</td>\n",
       "      <td>2.029628</td>\n",
       "      <td>0.009876</td>\n",
       "      <td>0.009780</td>\n",
       "      <td>0.990220</td>\n",
       "    </tr>\n",
       "  </tbody>\n",
       "</table>\n",
       "</div>"
      ],
      "text/plain": [
       "   theta  pyrA  spherical_curvature  angular_defect      improper  \\\n",
       "0     90   0.0         8.747477e-17   -5.088887e-14  7.016709e-15   \n",
       "1     91   1.0         2.493201e-02    9.066696e-02 -1.999391e+00   \n",
       "2     92   2.0         4.985642e-02    3.623923e-01 -3.995138e+00   \n",
       "3     93   3.0         7.476565e-02    8.143534e-01 -5.983640e+00   \n",
       "4     94   4.0         9.965211e-02    1.445193e+00 -7.961385e+00   \n",
       "\n",
       "   pyr_distance                              atom_A  \\\n",
       "0  8.572528e-17  [0.0, 0.0, -8.572527594031472e-17]   \n",
       "1  2.443337e-02     [0.0, 0.0, 0.02443336901219686]   \n",
       "2  4.885930e-02     [0.0, 0.0, 0.04885929538350133]   \n",
       "3  7.327034e-02     [0.0, 0.0, 0.07327033874012137]   \n",
       "4  9.765906e-02     [0.0, 0.0, 0.09765906324177548]   \n",
       "\n",
       "                                              star_A  n_star_A  hybridization  \\\n",
       "0  [[1.4, 0.0, 0.0], [-0.6999999999999996, 1.2124...         3       2.000000   \n",
       "1  [[1.3997867732189477, 0.0, 0.0], [-0.699893386...         3       2.001829   \n",
       "2  [[1.399147157826734, 0.0, 0.0], [-0.6995735789...         3       2.007335   \n",
       "3  [[1.3980813486564032, 0.0, 0.0], [-0.699040674...         3       2.016570   \n",
       "4  [[1.3965896703637537, 0.0, 0.0], [-0.698294835...         3       2.029628   \n",
       "\n",
       "          n         m    c_pi^2  lambda_pi^2  \n",
       "0  2.000000  0.000000  0.000000     1.000000  \n",
       "1  2.001829  0.000610  0.000609     0.999391  \n",
       "2  2.007335  0.002445  0.002439     0.997561  \n",
       "3  2.016570  0.005523  0.005493     0.994507  \n",
       "4  2.029628  0.009876  0.009780     0.990220  "
      ]
     },
     "execution_count": 6,
     "metadata": {},
     "output_type": "execute_result"
    }
   ],
   "source": [
    "df = pd.DataFrame(data)\n",
    "df.head()"
   ]
  },
  {
   "cell_type": "code",
   "execution_count": 4,
   "metadata": {},
   "outputs": [
    {
     "name": "stdout",
     "output_type": "stream",
     "text": [
      "\\begin{tabular}{rrrrrrr}\n",
      "\\toprule\n",
      " theta &  pyrA &   c_pi^2 & lambda_pi^2 &        m &        n & hybridization \\\\\n",
      "\\midrule\n",
      "    90 &   0.0 &    0.000 &       1.000 &    0.000 &    2.000 &         2.000 \\\\\n",
      "    91 &   1.0 &    0.001 &       0.999 &    0.001 &    2.002 &         2.002 \\\\\n",
      "    92 &   2.0 &    0.002 &       0.998 &    0.002 &    2.007 &         2.007 \\\\\n",
      "    93 &   3.0 &    0.005 &       0.995 &    0.006 &    2.017 &         2.017 \\\\\n",
      "    94 &   4.0 &    0.010 &       0.990 &    0.010 &    2.030 &         2.030 \\\\\n",
      "    95 &   5.0 &    0.015 &       0.985 &    0.016 &    2.047 &         2.047 \\\\\n",
      "    96 &   6.0 &    0.022 &       0.978 &    0.023 &    2.068 &         2.068 \\\\\n",
      "    97 &   7.0 &    0.030 &       0.970 &    0.031 &    2.093 &         2.093 \\\\\n",
      "    98 &   8.0 &    0.040 &       0.960 &    0.041 &    2.123 &         2.123 \\\\\n",
      "    99 &   9.0 &    0.050 &       0.950 &    0.053 &    2.158 &         2.158 \\\\\n",
      "   100 &  10.0 &    0.062 &       0.938 &    0.066 &    2.199 &         2.199 \\\\\n",
      "   101 &  11.0 &    0.076 &       0.924 &    0.082 &    2.245 &         2.245 \\\\\n",
      "   102 &  12.0 &    0.090 &       0.910 &    0.099 &    2.298 &         2.298 \\\\\n",
      "   103 &  13.0 &    0.107 &       0.893 &    0.119 &    2.358 &         2.358 \\\\\n",
      "   104 &  14.0 &    0.124 &       0.876 &    0.142 &    2.426 &         2.426 \\\\\n",
      "   105 &  15.0 &    0.144 &       0.856 &    0.168 &    2.503 &         2.503 \\\\\n",
      "   106 &  16.0 &    0.164 &       0.836 &    0.197 &    2.590 &         2.590 \\\\\n",
      "   107 &  17.0 &    0.187 &       0.813 &    0.230 &    2.690 &         2.690 \\\\\n",
      "   108 &  18.0 &    0.211 &       0.789 &    0.268 &    2.803 &         2.803 \\\\\n",
      "   109 &  19.0 &    0.237 &       0.763 &    0.311 &    2.932 &         2.932 \\\\\n",
      "   110 &  20.0 &    0.265 &       0.735 &    0.360 &    3.081 &         3.081 \\\\\n",
      "   111 &  21.0 &    0.295 &       0.705 &    0.418 &    3.254 &         3.254 \\\\\n",
      "   112 &  22.0 &    0.326 &       0.674 &    0.485 &    3.454 &         3.454 \\\\\n",
      "   113 &  23.0 &    0.360 &       0.640 &    0.563 &    3.690 &         3.690 \\\\\n",
      "   114 &  24.0 &    0.396 &       0.604 &    0.657 &    3.971 &         3.971 \\\\\n",
      "   115 &  25.0 &    0.435 &       0.565 &    0.770 &    4.309 &         4.309 \\\\\n",
      "   116 &  26.0 &    0.476 &       0.524 &    0.908 &    4.723 &         4.723 \\\\\n",
      "   117 &  27.0 &    0.519 &       0.481 &    1.080 &    5.240 &         5.240 \\\\\n",
      "   118 &  28.0 &    0.565 &       0.435 &    1.301 &    5.903 &         5.903 \\\\\n",
      "   119 &  29.0 &    0.615 &       0.385 &    1.594 &    6.782 &         6.782 \\\\\n",
      "   120 &  30.0 &    0.667 &       0.333 &    2.000 &    8.000 &         8.000 \\\\\n",
      "\\bottomrule\n",
      "\\end{tabular}\n",
      "\n"
     ]
    }
   ],
   "source": [
    "latex = df.to_latex(\n",
    "    index=False,\n",
    "    escape=False,\n",
    "    columns=[\"theta\", \"pyrA\", \"c_pi^2\", \"lambda_pi^2\", \"m\", \"n\", \"hybridization\"],\n",
    "    formatters={\"lambda_pi^2\": lambda x: \"%8.3f\" % x,\n",
    "                \"c_pi^2\": lambda x: \"%8.3f\" % x,\n",
    "                \"m\": lambda x: \"%8.3f\" % x,\n",
    "                \"hybridization\": lambda x: \"%8.3f\" % x,\n",
    "                \"n\": lambda x: \"%8.3f\" % x})\n",
    "print(latex)"
   ]
  },
  {
   "cell_type": "markdown",
   "metadata": {},
   "source": [
    "## Compute data for defined pyramid\n",
    "\n",
    "### A perfect sp3 pyramid"
   ]
  },
  {
   "cell_type": "code",
   "execution_count": 5,
   "metadata": {},
   "outputs": [
    {
     "name": "stdout",
     "output_type": "stream",
     "text": [
      "pyrA: 19.4712 degrees\n",
      "size of *(A): 3\n",
      "Atom A:\n",
      "[0.         0.         0.43333333]\n",
      "Atoms B in *(A):\n",
      "[[ 1.22565175  0.          0.        ]\n",
      " [-0.61282588  1.06144556  0.        ]\n",
      " [-0.61282588 -1.06144556  0.        ]]\n",
      "\n",
      "pyr angle:    19.4712\n",
      "pyr distance:     0.4333\n",
      "angular defect:     0.5513\n",
      "spherical curvature : 0.5128205128205127\n",
      "improper angle: -0.6154797086703873\n"
     ]
    }
   ],
   "source": [
    "va = pychemcurv.VertexAtom.from_pyramid(1.3, np.degrees(np.arccos(-1/3)), perturb=0)\n",
    "print(va)\n",
    "va.write_file(filename=\"mol.xyz\")\n",
    "print(f\"pyr angle: {va.pyrA:10.4f}\")\n",
    "print(f\"pyr distance: {va.pyr_distance:10.4f}\")\n",
    "print(f\"angular defect: {va.angular_defect:10.4f}\")\n",
    "print(f\"spherical curvature : {va.spherical_curvature}\")\n",
    "print(f\"improper angle: {va.improper}\")"
   ]
  },
  {
   "cell_type": "markdown",
   "metadata": {},
   "source": [
    "### A perfect sp2 atom"
   ]
  },
  {
   "cell_type": "code",
   "execution_count": 7,
   "metadata": {},
   "outputs": [
    {
     "name": "stdout",
     "output_type": "stream",
     "text": [
      "pyrA: 0.0000 degrees\n",
      "size of *(A): 3\n",
      "Atom A:\n",
      "[ 0.00000000e+00  0.00000000e+00 -7.96020419e-17]\n",
      "Atoms B in *(A):\n",
      "[[ 1.3         0.          0.        ]\n",
      " [-0.65        1.12583302  0.        ]\n",
      " [-0.65       -1.12583302  0.        ]]\n",
      "\n",
      "pyr angle:     0.0000\n",
      "pyr distance:     0.0000\n",
      "angular defect:    -0.0000\n",
      "spherical curvature : 9.420359993441179e-17\n",
      "improper angle:     0.0000\n"
     ]
    }
   ],
   "source": [
    "va = pychemcurv.VertexAtom.from_pyramid(1.3, 90, perturb=0)\n",
    "print(va)\n",
    "va.write_file(filename=\"mol_sp2.xyz\")\n",
    "print(f\"pyr angle: {va.pyrA:10.4f}\")\n",
    "print(f\"pyr distance: {va.pyr_distance:10.4f}\")\n",
    "print(f\"angular defect: {va.angular_defect:10.4f}\")\n",
    "print(f\"spherical curvature : {va.spherical_curvature}\")\n",
    "print(f\"improper angle: {va.improper:10.4f}\")"
   ]
  },
  {
   "cell_type": "markdown",
   "metadata": {},
   "source": [
    "### A sp3 pyramid with random noize\n",
    "\n",
    "Compute the same quantities for a sp3 pyramid but randomize the positions.\n",
    "\n",
    "#### perturb by 1%"
   ]
  },
  {
   "cell_type": "code",
   "execution_count": 8,
   "metadata": {},
   "outputs": [
    {
     "name": "stdout",
     "output_type": "stream",
     "text": [
      "pyrA: 19.1162 degrees\n",
      "size of *(A): 3\n",
      "Atom A:\n",
      "[0.         0.         0.43333333]\n",
      "Atoms B in *(A):\n",
      "[[ 1.22129009  0.01469287 -0.01276197]\n",
      " [-0.60213464  1.08635482  0.01162588]\n",
      " [-0.62114492 -1.0775838   0.0159102 ]]\n",
      "\n",
      "pyr angle:    19.1162\n",
      "pyr distance:     0.4284\n",
      "angular defect:     0.5331\n",
      "spherical curvature : 0.5007199718109794\n",
      "improper angle:    -0.5932\n"
     ]
    }
   ],
   "source": [
    "va = pychemcurv.VertexAtom.from_pyramid(1.3, np.degrees(np.arccos(-1/3)), perturb=0.01 * 2)\n",
    "print(va)\n",
    "va.write_file(filename=\"mol_r.xyz\")\n",
    "print(f\"pyr angle: {va.pyrA:10.4f}\")\n",
    "print(f\"pyr distance: {va.pyr_distance:10.4f}\")\n",
    "print(f\"angular defect: {va.angular_defect:10.4f}\")\n",
    "print(f\"spherical curvature : {va.spherical_curvature}\")\n",
    "print(f\"improper angle: {va.improper:10.4f}\")"
   ]
  },
  {
   "cell_type": "markdown",
   "metadata": {},
   "source": [
    "#### Perturb by 15%\n",
    "\n",
    "Compute the same quantities for a sp3 pyramid but randomize the positions by 15%."
   ]
  },
  {
   "cell_type": "code",
   "execution_count": 9,
   "metadata": {},
   "outputs": [
    {
     "name": "stdout",
     "output_type": "stream",
     "text": [
      "pyrA: 21.7579 degrees\n",
      "size of *(A): 3\n",
      "Atom A:\n",
      "[0.         0.         0.46666667]\n",
      "Atoms B in *(A):\n",
      "[[ 0.95989306 -0.01540445 -0.45777711]\n",
      " [-0.77093365  0.72865347  0.65981589]\n",
      " [-0.6272161  -0.8081634  -0.36054831]]\n",
      "\n",
      "pyr angle:    21.7579\n",
      "pyr distance:     0.4473\n",
      "angular defect:     0.7792\n",
      "spherical curvature : 0.6064029047208582\n",
      "improper angle:    -1.1069\n"
     ]
    }
   ],
   "source": [
    "va = pychemcurv.VertexAtom.from_pyramid(1.4, np.degrees(np.arccos(-1/3)), perturb=0.15 * 2)\n",
    "print(va)\n",
    "va.write_file(filename=\"mol_r.xyz\")\n",
    "print(f\"pyr angle: {va.pyrA:10.4f}\")\n",
    "print(f\"pyr distance: {va.pyr_distance:10.4f}\")\n",
    "print(f\"angular defect: {va.angular_defect:10.4f}\")\n",
    "print(f\"spherical curvature : {va.spherical_curvature}\")\n",
    "print(f\"improper angle: {va.improper:10.4f}\")"
   ]
  },
  {
   "cell_type": "markdown",
   "metadata": {},
   "source": [
    "### Random rotation\n",
    "\n",
    "Apply a random rotation and translation to the molecule, and check the results do not change."
   ]
  },
  {
   "cell_type": "code",
   "execution_count": 10,
   "metadata": {},
   "outputs": [
    {
     "name": "stdout",
     "output_type": "stream",
     "text": [
      "qcoords = \n",
      " [[-6.19533811  6.55475663  2.12433194]\n",
      " [-6.89340087  7.68987711  2.10339987]\n",
      " [-6.08601051  5.78902266  1.3731461 ]\n",
      " [-5.17412737  7.33167219  1.83391231]]\n",
      "pyr angle:    21.7579\n",
      "pyr distance:     0.4473\n",
      "angular defect:     0.7792\n",
      "spherical curvature : 0.6064029047208608\n",
      "improper angle:    -1.1069\n"
     ]
    }
   ],
   "source": [
    "# transformation matrix from qr decomposition of a random matrix\n",
    "q ,r = np.linalg.qr(np.random.random((3, 3)))\n",
    "\n",
    "# random translation vector\n",
    "translation = np.random.uniform(-10, 10, 3)\n",
    "\n",
    "# new coordinates\n",
    "coords = np.vstack((va.a, va.star_a))\n",
    "qcoords = np.dot(coords, q) + translation\n",
    "print(\"qcoords = \\n\", qcoords)\n",
    "\n",
    "va = pychemcurv.VertexAtom(qcoords[0], qcoords[1:])\n",
    "va.write_file(filename=\"random.xyz\")\n",
    "print(f\"pyr angle: {va.pyrA:10.4f}\")\n",
    "print(f\"pyr distance: {va.pyr_distance:10.4f}\")\n",
    "print(f\"angular defect: {va.angular_defect:10.4f}\")\n",
    "print(f\"spherical curvature : {va.spherical_curvature}\")\n",
    "print(f\"improper angle: {va.improper:10.4f}\")"
   ]
  },
  {
   "cell_type": "markdown",
   "metadata": {},
   "source": [
    "## Hybridization\n",
    "\n",
    "This class contains quantities computed from the pyramidalisation angle."
   ]
  },
  {
   "cell_type": "code",
   "execution_count": 11,
   "metadata": {},
   "outputs": [],
   "source": [
    "hyb = pychemcurv.Hybridization(18)"
   ]
  },
  {
   "cell_type": "code",
   "execution_count": 12,
   "metadata": {},
   "outputs": [
    {
     "name": "stdout",
     "output_type": "stream",
     "text": [
      "c_pi^2 = 0.2111\n",
      "lambda_pi^2 = 0.7889\n"
     ]
    }
   ],
   "source": [
    "print(f\"c_pi^2 = {hyb.c_pi**2:.4f}\")\n",
    "print(f\"lambda_pi^2 = {hyb.lambda_pi**2:.4f}\")"
   ]
  },
  {
   "cell_type": "code",
   "execution_count": 13,
   "metadata": {},
   "outputs": [
    {
     "data": {
      "text/plain": [
       "{'hybridization': 2.802983248181589,\n",
       " 'n': 2.802983248181589,\n",
       " 'm': 0.26766108272719624,\n",
       " 'c_pi^2': 0.21114561800016823,\n",
       " 'lambda_pi^2': 0.7888543819998319}"
      ]
     },
     "execution_count": 13,
     "metadata": {},
     "output_type": "execute_result"
    }
   ],
   "source": [
    "hyb.as_dict()"
   ]
  },
  {
   "cell_type": "markdown",
   "metadata": {},
   "source": [
    "### with numpy\n",
    "\n",
    "The `Hybridization` class can be used with numpy."
   ]
  },
  {
   "cell_type": "code",
   "execution_count": 14,
   "metadata": {},
   "outputs": [],
   "source": [
    "pyrA = np.linspace(0, 30, 12)\n",
    "hyb = pychemcurv.Hybridization(pyrA)"
   ]
  },
  {
   "cell_type": "code",
   "execution_count": 15,
   "metadata": {},
   "outputs": [
    {
     "data": {
      "text/plain": [
       "array([0.        , 0.00453835, 0.01823608, 0.0413444 , 0.07429295,\n",
       "       0.11770697, 0.17243303, 0.23957508, 0.32054361, 0.41712183,\n",
       "       0.53155439, 0.66666667])"
      ]
     },
     "execution_count": 15,
     "metadata": {},
     "output_type": "execute_result"
    }
   ],
   "source": [
    "hyb.c_pi ** 2"
   ]
  },
  {
   "cell_type": "code",
   "execution_count": 16,
   "metadata": {},
   "outputs": [
    {
     "data": {
      "text/plain": [
       "array([1.        , 0.99546165, 0.98176392, 0.9586556 , 0.92570705,\n",
       "       0.88229303, 0.82756697, 0.76042492, 0.67945639, 0.58287817,\n",
       "       0.46844561, 0.33333333])"
      ]
     },
     "execution_count": 16,
     "metadata": {},
     "output_type": "execute_result"
    }
   ],
   "source": [
    "hyb.lambda_pi ** 2"
   ]
  },
  {
   "cell_type": "code",
   "execution_count": 17,
   "metadata": {},
   "outputs": [
    {
     "data": {
      "text/plain": [
       "{'hybridization': array([2.        , 2.01367713, 2.05572443, 2.12938243, 2.24076606,\n",
       "        2.40023088, 2.62508428, 2.94516265, 3.41529438, 4.14687311,\n",
       "        5.40415859, 8.        ]),\n",
       " 'n': array([2.        , 2.01367713, 2.05572443, 2.12938243, 2.24076606,\n",
       "        2.40023088, 2.62508428, 2.94516265, 3.41529438, 4.14687311,\n",
       "        5.40415859, 8.        ]),\n",
       " 'm': array([0.        , 0.00455904, 0.01857481, 0.04312748, 0.08025535,\n",
       "        0.13341029, 0.20836143, 0.31505422, 0.47176479, 0.71562437,\n",
       "        1.13471953, 2.        ]),\n",
       " 'c_pi^2': array([0.        , 0.00453835, 0.01823608, 0.0413444 , 0.07429295,\n",
       "        0.11770697, 0.17243303, 0.23957508, 0.32054361, 0.41712183,\n",
       "        0.53155439, 0.66666667]),\n",
       " 'lambda_pi^2': array([1.        , 0.99546165, 0.98176392, 0.9586556 , 0.92570705,\n",
       "        0.88229303, 0.82756697, 0.76042492, 0.67945639, 0.58287817,\n",
       "        0.46844561, 0.33333333])}"
      ]
     },
     "execution_count": 17,
     "metadata": {},
     "output_type": "execute_result"
    }
   ],
   "source": [
    "hyb.as_dict()"
   ]
  },
  {
   "cell_type": "markdown",
   "metadata": {},
   "source": [
    "## Hybridization\n",
    "\n",
    "Calculations of $c_\\pi^2 / 3$ and $\\lambda_\\pi^2$ as a function of $pyrA$."
   ]
  },
  {
   "cell_type": "code",
   "execution_count": 18,
   "metadata": {},
   "outputs": [
    {
     "data": {
      "image/png": "[encoded data removed]",
      "text/plain": [
       "<Figure size 840.24x595.44 with 2 Axes>"
      ]
     },
     "metadata": {},
     "output_type": "display_data"
    }
   ],
   "source": [
    "pyrA = np.linspace(0, 35, 100)\n",
    "hybridization = pychemcurv.Hybridization(pyrA)\n",
    "\n",
    "with plt.style.context(\"publi\"):\n",
    "    fig, ax1 = plt.subplots()\n",
    "    \n",
    "    ax1.plot(pyrA, hybridization.c_pi ** 2 / 3, label=\"$p_z$ weight in $\\sigma$ orbitals\")\n",
    "    ax1.set_xlabel('pyrA (degrees)')\n",
    "    ax1.set_ylabel('$c_\\pi^2 \\; / \\; 3$', color=\"C0\")\n",
    "    ax1.tick_params(axis='y', labelcolor=\"C0\")\n",
    "\n",
    "    ax2 = ax1.twinx()  # instantiate a second axes that shares the same x-axis\n",
    "\n",
    "    ax2.plot(pyrA, hybridization.lambda_pi **2, color=\"C1\", label=\"s weight in $\\pi$ orbital\")\n",
    "    \n",
    "    ax2.set_ylabel('$\\lambda_\\pi^2$', color=\"C1\")\n",
    "    ax2.tick_params(axis='y', labelcolor=\"C1\")\n",
    "    \n",
    "    ax1.axvline(0, color=\"C7\", ls=\"--\", lw=3)\n",
    "    ax1.axvline(19.4712, color=\"C7\", ls=\"--\", lw=3)\n",
    "    ax1.text(0, 0.35, \"$sp^2$\", ha=\"center\", color=\"C7\")\n",
    "    ax1.text(19.4712, 0.35, \"$sp^3$\", ha=\"center\", color=\"C7\")\n",
    "\n",
    "    plt.grid(False)\n",
    "    fig.tight_layout()\n",
    "    plt.savefig(\"hybrid.png\", dpi=300)\n",
    "    "
   ]
  }
 ],
 "metadata": {
  "kernelspec": {
   "display_name": "Python 3",
   "language": "python",
   "name": "python3"
  },
  "language_info": {
   "codemirror_mode": {
    "name": "ipython",
    "version": 3
   },
   "file_extension": ".py",
   "mimetype": "text/x-python",
   "name": "python",
   "nbconvert_exporter": "python",
   "pygments_lexer": "ipython3",
   "version": "3.8.2"
  },
  "pycharm": {
   "stem_cell": {
    "cell_type": "raw",
    "metadata": {
     "collapsed": false
    },
    "source": []
   }
  }
 },
 "nbformat": 4,
 "nbformat_minor": 4
}
